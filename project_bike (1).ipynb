{
 "cells": [
  {
   "cell_type": "code",
   "execution_count": null,
   "metadata": {},
   "outputs": [],
   "source": [
    "#Load libraries\n",
    "import os\n",
    "import pandas as pd\n",
    "import numpy as np  \n",
    "import matplotlib.pyplot as plt\n",
    "from scipy.stats import chi2_contingency\n",
    "import seaborn as sns\n",
    "from random import randrange, uniform\n",
    "import datetime as dt\n",
    "from sklearn.model_selection import train_test_split\n",
    "from sklearn.tree import DecisionTreeRegressor\n",
    "import statsmodels.api as sm\n",
    "from sklearn.ensemble import RandomForestRegressor\n",
    "from sklearn.preprocessing import StandardScaler\n",
    "from sklearn.svm import SVR\n",
    "from sklearn.metrics import mean_squared_error,r2_score"
   ]
  },
  {
   "cell_type": "markdown",
   "metadata": {},
   "source": [
    "# Reading the Data"
   ]
  },
  {
   "cell_type": "code",
   "execution_count": null,
   "metadata": {},
   "outputs": [],
   "source": [
    "#Setting working directory and reading the data\n",
    "os.chdir(\"F://MBA//Edwisor\")\n",
    "data = pd.read_csv(\"day.csv\")"
   ]
  },
  {
   "cell_type": "markdown",
   "metadata": {},
   "source": [
    "# Understanding the Data"
   ]
  },
  {
   "cell_type": "code",
   "execution_count": null,
   "metadata": {},
   "outputs": [],
   "source": [
    "data.head(5)"
   ]
  },
  {
   "cell_type": "code",
   "execution_count": null,
   "metadata": {},
   "outputs": [],
   "source": [
    "data.describe()"
   ]
  },
  {
   "cell_type": "code",
   "execution_count": null,
   "metadata": {},
   "outputs": [],
   "source": [
    "data.shape"
   ]
  },
  {
   "cell_type": "markdown",
   "metadata": {},
   "source": [
    "# Outlier Analysis"
   ]
  },
  {
   "cell_type": "code",
   "execution_count": null,
   "metadata": {},
   "outputs": [],
   "source": [
    "plt.boxplot(data['mnth'])\n",
    "plt.ylabel('Month')"
   ]
  },
  {
   "cell_type": "code",
   "execution_count": null,
   "metadata": {},
   "outputs": [],
   "source": [
    "plt.boxplot(data['season'])\n",
    "plt.ylabel('season')"
   ]
  },
  {
   "cell_type": "code",
   "execution_count": null,
   "metadata": {},
   "outputs": [],
   "source": [
    "plt.boxplot(data['windspeed'])\n",
    "plt.ylabel('windspeed')"
   ]
  },
  {
   "cell_type": "code",
   "execution_count": null,
   "metadata": {},
   "outputs": [],
   "source": [
    "plt.boxplot(data['hum'])\n",
    "plt.ylabel('humidity')"
   ]
  },
  {
   "cell_type": "markdown",
   "metadata": {},
   "source": [
    "# visualization"
   ]
  },
  {
   "cell_type": "code",
   "execution_count": null,
   "metadata": {},
   "outputs": [],
   "source": [
    "plt.hist(data['windspeed'], bins = 10)\n",
    "plt.ylabel('Frequency')\n",
    "plt.xlabel('windspeed')\n",
    "plt.show()"
   ]
  },
  {
   "cell_type": "code",
   "execution_count": null,
   "metadata": {},
   "outputs": [],
   "source": [
    "plt.hist(data['cnt'], bins = 10)\n",
    "plt.ylabel('Frequency')\n",
    "plt.xlabel('cnt')\n",
    "plt.show()"
   ]
  },
  {
   "cell_type": "markdown",
   "metadata": {},
   "source": [
    "# Feature Engineering"
   ]
  },
  {
   "cell_type": "code",
   "execution_count": null,
   "metadata": {},
   "outputs": [],
   "source": [
    "# Converting numeric into factor datatypes\n",
    "data['season']= data['season'].astype('category')\n",
    "data['yr']=data['yr'].astype('int')\n",
    "data['mnth']=data['mnth'].astype('category')\n",
    "data['holiday']=data['holiday'].astype('int')\n",
    "data['workingday']=data['workingday'].astype('int')\n",
    "data['weekday']=data['weekday'].astype('category')\n",
    "data['weathersit']=data['weathersit'].astype('category')\n",
    "data['dteday'] = pd.to_datetime(data['dteday'], errors='coerce')\n",
    "data['dteday'] = data['dteday'].dt.day\n",
    "data['dteday']=data['dteday'].astype('category')\n",
    "data = data.drop(['instant','casual', 'registered',], axis=1)"
   ]
  },
  {
   "cell_type": "code",
   "execution_count": null,
   "metadata": {},
   "outputs": [],
   "source": [
    "data.head(5)"
   ]
  },
  {
   "cell_type": "markdown",
   "metadata": {},
   "source": [
    "# Feature Selection"
   ]
  },
  {
   "cell_type": "code",
   "execution_count": null,
   "metadata": {},
   "outputs": [],
   "source": [
    "#Correlation plot\n",
    "df_corr = data"
   ]
  },
  {
   "cell_type": "code",
   "execution_count": null,
   "metadata": {},
   "outputs": [],
   "source": [
    "#Set the width and hieght of the plot\n",
    "f, ax = plt.subplots(figsize=(7, 5))\n",
    "\n",
    "#Generate correlation matrix\n",
    "corr = df_corr.corr()\n",
    "\n",
    "#Plot using seaborn library\n",
    "sns.heatmap(corr, mask=np.zeros_like(corr, dtype=np.bool), cmap=sns.diverging_palette(220, 10, as_cmap=True),\n",
    "            square=True, ax=ax)"
   ]
  },
  {
   "cell_type": "code",
   "execution_count": null,
   "metadata": {},
   "outputs": [],
   "source": [
    "#droping corelated variable\n",
    "data = data.drop(['atemp'], axis=1)"
   ]
  },
  {
   "cell_type": "markdown",
   "metadata": {},
   "source": [
    "# Sampling"
   ]
  },
  {
   "cell_type": "code",
   "execution_count": null,
   "metadata": {},
   "outputs": [],
   "source": [
    "#dividing data into train and test\n",
    "train, test = train_test_split(data, test_size=0.2)"
   ]
  },
  {
   "cell_type": "markdown",
   "metadata": {},
   "source": [
    "# Modeling"
   ]
  },
  {
   "cell_type": "code",
   "execution_count": null,
   "metadata": {},
   "outputs": [],
   "source": [
    "#linear regression\n",
    "#creating dummy variable\n",
    "data_lm=data.copy()\n",
    "cat_names = [\"season\", \"dteday\", \"weathersit\", \"mnth\",\"weekday\"]\n",
    "for i in cat_names:\n",
    "    temp = pd.get_dummies(data_lm[i], prefix = i)\n",
    "    data_lm = data_lm.join(temp)\n",
    "drop = ['dteday', 'season', 'weathersit', 'weekday', 'mnth','cnt']\n",
    "data_lm = data_lm.drop(drop, axis=1)\n",
    "data_lm=data_lm.join(data['cnt'])"
   ]
  },
  {
   "cell_type": "code",
   "execution_count": null,
   "metadata": {},
   "outputs": [],
   "source": [
    "trainlm, testlm = train_test_split(data_lm, test_size=0.2)\n",
    "LM_model = sm.OLS(trainlm.iloc[:,63], trainlm.iloc[:,0:62]).fit()\n",
    "predictions_LM = LM_model.predict(testlm.iloc[:,0:62])\n",
    "LM_model.summary()"
   ]
  },
  {
   "cell_type": "code",
   "execution_count": null,
   "metadata": {
    "scrolled": true
   },
   "outputs": [],
   "source": [
    "trainlm.head(2)"
   ]
  },
  {
   "cell_type": "code",
   "execution_count": null,
   "metadata": {},
   "outputs": [],
   "source": [
    "train.head(2)"
   ]
  },
  {
   "cell_type": "code",
   "execution_count": null,
   "metadata": {},
   "outputs": [],
   "source": [
    "fit_svr = SVR().fit(train.iloc[:,0:10], train.iloc[:,11])\n",
    "predictions_SVR = fit_svr.predict(test.iloc[:,0:10])"
   ]
  },
  {
   "cell_type": "code",
   "execution_count": null,
   "metadata": {},
   "outputs": [],
   "source": [
    "#Decision Tree\n",
    "fit_DT = DecisionTreeRegressor(max_depth=2).fit(train.iloc[:,0:11], train.iloc[:,11])\n",
    "predictions_DT = fit_DT.predict(test.iloc[:,0:11])"
   ]
  },
  {
   "cell_type": "code",
   "execution_count": null,
   "metadata": {},
   "outputs": [],
   "source": [
    "#Random forest\n",
    "RFmodel = RandomForestRegressor(n_estimators = 200).fit(train.iloc[:,0:11], train.iloc[:,11])\n",
    "predictions_RF = RFmodel.predict(test.iloc[:,0:11])"
   ]
  },
  {
   "cell_type": "markdown",
   "metadata": {},
   "source": [
    "# Evaluation"
   ]
  },
  {
   "cell_type": "code",
   "execution_count": null,
   "metadata": {},
   "outputs": [],
   "source": [
    "#Defining Mape function\n",
    "def MAPE(y_act, y_pred): \n",
    "    mape = np.mean(np.abs((y_act - y_pred) / y_act)) * 100\n",
    "    return mape"
   ]
  },
  {
   "cell_type": "code",
   "execution_count": null,
   "metadata": {},
   "outputs": [],
   "source": [
    "def RMSE(y_act, y_pred): \n",
    "    rmse = np.sqrt(np.mean(np.square(y_act - y_pred)))\n",
    "    return rmse"
   ]
  },
  {
   "cell_type": "code",
   "execution_count": null,
   "metadata": {},
   "outputs": [],
   "source": [
    "MAPE_LM = MAPE(testlm['cnt'], predictions_LM)\n",
    "MAPE_LM\n",
    "#19.39625%"
   ]
  },
  {
   "cell_type": "code",
   "execution_count": null,
   "metadata": {},
   "outputs": [],
   "source": [
    "RMSE_LM = RMSE(testlm['cnt'], predictions_LM)\n",
    "RMSE_LM\n",
    "#867.33"
   ]
  },
  {
   "cell_type": "code",
   "execution_count": null,
   "metadata": {},
   "outputs": [],
   "source": [
    "MAPE_DT = MAPE(test['cnt'], predictions_DT)\n",
    "MAPE_DT\n",
    "#20.6616%"
   ]
  },
  {
   "cell_type": "code",
   "execution_count": null,
   "metadata": {},
   "outputs": [],
   "source": [
    "RMSE_DT = RMSE(test['cnt'], predictions_DT)\n",
    "RMSE_DT\n",
    "#1146.90"
   ]
  },
  {
   "cell_type": "code",
   "execution_count": null,
   "metadata": {},
   "outputs": [],
   "source": [
    "MAPE_RF = MAPE(test.iloc[:,11], predictions_RF)\n",
    "MAPE_RF\n",
    "#17.6433%"
   ]
  },
  {
   "cell_type": "code",
   "execution_count": null,
   "metadata": {},
   "outputs": [],
   "source": [
    "RMSE_RF = RMSE(test.iloc[:,11], predictions_RF)\n",
    "RMSE_RF\n",
    "#710.85"
   ]
  },
  {
   "cell_type": "code",
   "execution_count": null,
   "metadata": {},
   "outputs": [],
   "source": [
    "MAPE_SVR = MAPE(test.iloc[:,11], predictions_SVR)\n",
    "MAPE_SVR\n",
    "#18.41555%"
   ]
  },
  {
   "cell_type": "code",
   "execution_count": null,
   "metadata": {},
   "outputs": [],
   "source": [
    "RMSE_SVR = RMSE(test.iloc[:,11], predictions_SVR)\n",
    "RMSE_SVR\n",
    "#2012.82"
   ]
  },
  {
   "cell_type": "code",
   "execution_count": null,
   "metadata": {},
   "outputs": [],
   "source": [
    "r2_LM =r2_score(predictions_LM, testlm['cnt'])\n",
    "r2_LM\n",
    "#0.79989"
   ]
  },
  {
   "cell_type": "code",
   "execution_count": null,
   "metadata": {},
   "outputs": [],
   "source": [
    "r2_DT =r2_score(predictions_DT, test['cnt'])\n",
    "r2_DT\n",
    "#0.47284"
   ]
  },
  {
   "cell_type": "code",
   "execution_count": null,
   "metadata": {},
   "outputs": [],
   "source": [
    "r2_RF =r2_score(predictions_RF, test['cnt'])\n",
    "r2_RF\n",
    "#0.85239"
   ]
  },
  {
   "cell_type": "code",
   "execution_count": null,
   "metadata": {},
   "outputs": [],
   "source": [
    "r2_SVR =r2_score(predictions_SVR, test['cnt'])\n",
    "r2_SVR\n",
    "#0.6249"
   ]
  }
 ],
 "metadata": {
  "kernelspec": {
   "display_name": "Python 3",
   "language": "python",
   "name": "python3"
  },
  "language_info": {
   "codemirror_mode": {
    "name": "ipython",
    "version": 3
   },
   "file_extension": ".py",
   "mimetype": "text/x-python",
   "name": "python",
   "nbconvert_exporter": "python",
   "pygments_lexer": "ipython3",
   "version": "3.6.8"
  }
 },
 "nbformat": 4,
 "nbformat_minor": 2
}
