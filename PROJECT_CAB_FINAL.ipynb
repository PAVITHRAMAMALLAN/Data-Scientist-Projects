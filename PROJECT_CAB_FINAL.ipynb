{
 "cells": [
  {
   "cell_type": "code",
   "execution_count": 2,
   "metadata": {},
   "outputs": [],
   "source": [
    "import os\n",
    "os.chdir(\"F://MBA//Edwisor\")"
   ]
  },
  {
   "cell_type": "code",
   "execution_count": 3,
   "metadata": {},
   "outputs": [],
   "source": [
    "import pandas as pd\n",
    "data = pd.read_csv(\"train_cab.csv\")"
   ]
  },
  {
   "cell_type": "code",
   "execution_count": null,
   "metadata": {},
   "outputs": [],
   "source": [
    "data.head(5)"
   ]
  },
  {
   "cell_type": "code",
   "execution_count": null,
   "metadata": {},
   "outputs": [],
   "source": [
    "data.describe()"
   ]
  },
  {
   "cell_type": "code",
   "execution_count": null,
   "metadata": {},
   "outputs": [],
   "source": [
    "data.shape"
   ]
  },
  {
   "cell_type": "code",
   "execution_count": 4,
   "metadata": {},
   "outputs": [],
   "source": [
    "data['fare_amount'] = pd.to_numeric(data['fare_amount'], errors='coerce')"
   ]
  },
  {
   "cell_type": "code",
   "execution_count": null,
   "metadata": {},
   "outputs": [],
   "source": [
    "data.head(5)"
   ]
  },
  {
   "cell_type": "code",
   "execution_count": null,
   "metadata": {},
   "outputs": [],
   "source": [
    "data['fare_amount'][(data.fare_amount<0)].count()"
   ]
  },
  {
   "cell_type": "code",
   "execution_count": 5,
   "metadata": {},
   "outputs": [],
   "source": [
    "data = data.drop(data['fare_amount'][data.fare_amount<0].index, axis=0)"
   ]
  },
  {
   "cell_type": "code",
   "execution_count": 5,
   "metadata": {},
   "outputs": [
    {
     "data": {
      "text/plain": [
       "Index([u'fare_amount', u'pickup_datetime', u'pickup_longitude',\n",
       "       u'pickup_latitude', u'dropoff_longitude', u'dropoff_latitude',\n",
       "       u'passenger_count'],\n",
       "      dtype='object')"
      ]
     },
     "execution_count": 5,
     "metadata": {},
     "output_type": "execute_result"
    }
   ],
   "source": [
    "data.columns"
   ]
  },
  {
   "cell_type": "markdown",
   "metadata": {},
   "source": [
    "# Missing value Analysis"
   ]
  },
  {
   "cell_type": "code",
   "execution_count": 6,
   "metadata": {},
   "outputs": [],
   "source": [
    "import numpy as np\n",
    "data.loc[data['pickup_longitude'] == 0,'pickup_longitude'] = np.nan\n",
    "data.loc[data['pickup_latitude'] == 0,'pickup_latitude'] = np.nan\n",
    "data.loc[data['dropoff_longitude'] == 0,'dropoff_longitude'] = np.nan\n",
    "data.loc[data['dropoff_latitude'] == 0,'dropoff_latitude'] = np.nan"
   ]
  },
  {
   "cell_type": "code",
   "execution_count": 7,
   "metadata": {},
   "outputs": [
    {
     "data": {
      "text/html": [
       "<div>\n",
       "<style scoped>\n",
       "    .dataframe tbody tr th:only-of-type {\n",
       "        vertical-align: middle;\n",
       "    }\n",
       "\n",
       "    .dataframe tbody tr th {\n",
       "        vertical-align: top;\n",
       "    }\n",
       "\n",
       "    .dataframe thead th {\n",
       "        text-align: right;\n",
       "    }\n",
       "</style>\n",
       "<table border=\"1\" class=\"dataframe\">\n",
       "  <thead>\n",
       "    <tr style=\"text-align: right;\">\n",
       "      <th></th>\n",
       "      <th>Variables</th>\n",
       "      <th>Missing_percentage</th>\n",
       "    </tr>\n",
       "  </thead>\n",
       "  <tbody>\n",
       "    <tr>\n",
       "      <th>0</th>\n",
       "      <td>fare_amount</td>\n",
       "      <td>0.155627</td>\n",
       "    </tr>\n",
       "    <tr>\n",
       "      <th>1</th>\n",
       "      <td>pickup_datetime</td>\n",
       "      <td>0.000000</td>\n",
       "    </tr>\n",
       "    <tr>\n",
       "      <th>2</th>\n",
       "      <td>pickup_longitude</td>\n",
       "      <td>1.960906</td>\n",
       "    </tr>\n",
       "    <tr>\n",
       "      <th>3</th>\n",
       "      <td>pickup_latitude</td>\n",
       "      <td>1.960906</td>\n",
       "    </tr>\n",
       "    <tr>\n",
       "      <th>4</th>\n",
       "      <td>dropoff_longitude</td>\n",
       "      <td>1.954681</td>\n",
       "    </tr>\n",
       "    <tr>\n",
       "      <th>5</th>\n",
       "      <td>dropoff_latitude</td>\n",
       "      <td>1.942231</td>\n",
       "    </tr>\n",
       "    <tr>\n",
       "      <th>6</th>\n",
       "      <td>passenger_count</td>\n",
       "      <td>0.342380</td>\n",
       "    </tr>\n",
       "  </tbody>\n",
       "</table>\n",
       "</div>"
      ],
      "text/plain": [
       "           Variables  Missing_percentage\n",
       "0        fare_amount            0.155627\n",
       "1    pickup_datetime            0.000000\n",
       "2   pickup_longitude            1.960906\n",
       "3    pickup_latitude            1.960906\n",
       "4  dropoff_longitude            1.954681\n",
       "5   dropoff_latitude            1.942231\n",
       "6    passenger_count            0.342380"
      ]
     },
     "execution_count": 7,
     "metadata": {},
     "output_type": "execute_result"
    }
   ],
   "source": [
    "missing_val = pd.DataFrame(data.isnull().sum())\n",
    "missing_val = missing_val.reset_index()\n",
    "missing_val = missing_val.rename(columns ={'index':'Variables', 0:'Missing_percentage'})\n",
    "missing_val['Missing_percentage'] = (missing_val['Missing_percentage']/len(data))*100\n",
    "missing_val"
   ]
  },
  {
   "cell_type": "code",
   "execution_count": 8,
   "metadata": {},
   "outputs": [
    {
     "data": {
      "text/plain": [
       "40.740784999999995"
      ]
     },
     "execution_count": 8,
     "metadata": {},
     "output_type": "execute_result"
    }
   ],
   "source": [
    "data['pickup_latitude'].loc[34]"
   ]
  },
  {
   "cell_type": "code",
   "execution_count": null,
   "metadata": {},
   "outputs": [],
   "source": [
    "#Actual Value = 40.74078\n",
    "#Mean Method = 40.71292\n",
    "#Median Method = 40.75330\n",
    "#KNN Imputation = "
   ]
  },
  {
   "cell_type": "code",
   "execution_count": 9,
   "metadata": {},
   "outputs": [
    {
     "name": "stderr",
     "output_type": "stream",
     "text": [
      "C:\\Users\\Student\\Anaconda3\\lib\\site-packages\\pandas\\core\\indexing.py:190: SettingWithCopyWarning: \n",
      "A value is trying to be set on a copy of a slice from a DataFrame\n",
      "\n",
      "See the caveats in the documentation: http://pandas.pydata.org/pandas-docs/stable/indexing.html#indexing-view-versus-copy\n",
      "  self._setitem_with_indexer(indexer, value)\n"
     ]
    }
   ],
   "source": [
    "data['pickup_latitude'].loc[34] = np.nan"
   ]
  },
  {
   "cell_type": "code",
   "execution_count": 10,
   "metadata": {},
   "outputs": [
    {
     "data": {
      "text/plain": [
       "nan"
      ]
     },
     "execution_count": 10,
     "metadata": {},
     "output_type": "execute_result"
    }
   ],
   "source": [
    "data['pickup_latitude'].loc[34]"
   ]
  },
  {
   "cell_type": "code",
   "execution_count": null,
   "metadata": {},
   "outputs": [],
   "source": [
    "#data['pickup_latitude'] = data['pickup_latitude'].fillna(data['pickup_latitude'].mean())\n",
    "data['pickup_latitude'] = data['pickup_latitude'].fillna(data['pickup_latitude'].median())"
   ]
  },
  {
   "cell_type": "code",
   "execution_count": 11,
   "metadata": {},
   "outputs": [
    {
     "ename": "ModuleNotFoundError",
     "evalue": "No module named 'fancyimpute'",
     "output_type": "error",
     "traceback": [
      "\u001b[1;31m---------------------------------------------------------------------------\u001b[0m",
      "\u001b[1;31mModuleNotFoundError\u001b[0m                       Traceback (most recent call last)",
      "\u001b[1;32m<ipython-input-11-aca3dda73296>\u001b[0m in \u001b[0;36m<module>\u001b[1;34m\u001b[0m\n\u001b[1;32m----> 1\u001b[1;33m \u001b[1;32mfrom\u001b[0m \u001b[0mfancyimpute\u001b[0m \u001b[1;32mimport\u001b[0m \u001b[0mKNN\u001b[0m\u001b[1;33m\u001b[0m\u001b[1;33m\u001b[0m\u001b[0m\n\u001b[0m\u001b[0;32m      2\u001b[0m \u001b[0mdata\u001b[0m \u001b[1;33m=\u001b[0m \u001b[0mpd\u001b[0m\u001b[1;33m.\u001b[0m\u001b[0mDataFrame\u001b[0m\u001b[1;33m(\u001b[0m\u001b[0mKNN\u001b[0m\u001b[1;33m(\u001b[0m\u001b[0mk\u001b[0m \u001b[1;33m=\u001b[0m \u001b[1;36m3\u001b[0m\u001b[1;33m)\u001b[0m\u001b[1;33m.\u001b[0m\u001b[0mfit_transform\u001b[0m\u001b[1;33m(\u001b[0m\u001b[0mdata\u001b[0m\u001b[1;33m)\u001b[0m\u001b[1;33m,\u001b[0m\u001b[0mcolumns\u001b[0m \u001b[1;33m=\u001b[0m \u001b[0mdata\u001b[0m\u001b[1;33m.\u001b[0m\u001b[0mcolumns\u001b[0m\u001b[1;33m)\u001b[0m\u001b[1;33m\u001b[0m\u001b[1;33m\u001b[0m\u001b[0m\n\u001b[0;32m      3\u001b[0m \u001b[1;31m#data = pd.DataFrame(KNN(k = 3).complete(data), columns = data.columns)\u001b[0m\u001b[1;33m\u001b[0m\u001b[1;33m\u001b[0m\u001b[1;33m\u001b[0m\u001b[0m\n",
      "\u001b[1;31mModuleNotFoundError\u001b[0m: No module named 'fancyimpute'"
     ]
    }
   ],
   "source": [
    "from fancyimpute import KNN  \n",
    "data = pd.DataFrame(KNN(k = 3).fit_transform(data),columns = data.columns)\n",
    "#data = pd.DataFrame(KNN(k = 3).complete(data), columns = data.columns)"
   ]
  },
  {
   "cell_type": "markdown",
   "metadata": {},
   "source": [
    "# Outlier Analysis"
   ]
  },
  {
   "cell_type": "code",
   "execution_count": 13,
   "metadata": {},
   "outputs": [],
   "source": [
    "data.loc[data['pickup_datetime'] == 43,'pickup_datetime']= np.nan"
   ]
  },
  {
   "cell_type": "code",
   "execution_count": 14,
   "metadata": {},
   "outputs": [],
   "source": [
    "data.drop(data[data.fare_amount.isnull()==True].index,axis=0, inplace=True)\n",
    "data.drop(data[data.pickup_longitude.isnull()==True].index,axis=0, inplace=True)\n",
    "data.drop(data[data.pickup_latitude.isnull()==True].index,axis=0, inplace=True)\n",
    "data.drop(data[data.dropoff_longitude.isnull()==True].index,axis=0, inplace=True)\n",
    "data.drop(data[data.dropoff_latitude.isnull()==True].index,axis=0, inplace=True)\n",
    "data.drop(data[data.passenger_count.isnull()==True].index,axis=0, inplace=True)\n",
    "data.drop(data[data.pickup_datetime.isnull()==True].index,axis=0, inplace=True)"
   ]
  },
  {
   "cell_type": "code",
   "execution_count": 15,
   "metadata": {},
   "outputs": [
    {
     "data": {
      "text/plain": [
       "{'whiskers': [<matplotlib.lines.Line2D at 0xcf36dd8>,\n",
       "  <matplotlib.lines.Line2D at 0xd0aebe0>],\n",
       " 'caps': [<matplotlib.lines.Line2D at 0xd0aef28>,\n",
       "  <matplotlib.lines.Line2D at 0xd0c52b0>],\n",
       " 'boxes': [<matplotlib.lines.Line2D at 0xd0ae470>],\n",
       " 'medians': [<matplotlib.lines.Line2D at 0xd0c55f8>],\n",
       " 'fliers': [<matplotlib.lines.Line2D at 0xd0c5940>],\n",
       " 'means': []}"
      ]
     },
     "execution_count": 15,
     "metadata": {},
     "output_type": "execute_result"
    },
    {
     "data": {
      "image/png": "[encoded data removed]",
      "text/plain": [
       "<Figure size 432x288 with 1 Axes>"
      ]
     },
     "metadata": {
      "needs_background": "light"
     },
     "output_type": "display_data"
    }
   ],
   "source": [
    "%matplotlib inline\n",
    "import matplotlib.pyplot as plt\n",
    "plt.boxplot(data['fare_amount'])"
   ]
  },
  {
   "cell_type": "code",
   "execution_count": 16,
   "metadata": {},
   "outputs": [
    {
     "data": {
      "text/plain": [
       "{'whiskers': [<matplotlib.lines.Line2D at 0xd3c8fd0>,\n",
       "  <matplotlib.lines.Line2D at 0xd3d3630>],\n",
       " 'caps': [<matplotlib.lines.Line2D at 0xd3d3978>,\n",
       "  <matplotlib.lines.Line2D at 0xd3d3cc0>],\n",
       " 'boxes': [<matplotlib.lines.Line2D at 0xd3c8e80>],\n",
       " 'medians': [<matplotlib.lines.Line2D at 0xd3d3da0>],\n",
       " 'fliers': [<matplotlib.lines.Line2D at 0xd3dc390>],\n",
       " 'means': []}"
      ]
     },
     "execution_count": 16,
     "metadata": {},
     "output_type": "execute_result"
    },
    {
     "data": {
      "image/png": "[encoded data removed]",
      "text/plain": [
       "<Figure size 432x288 with 1 Axes>"
      ]
     },
     "metadata": {
      "needs_background": "light"
     },
     "output_type": "display_data"
    }
   ],
   "source": [
    "plt.boxplot(data['passenger_count'])"
   ]
  },
  {
   "cell_type": "code",
   "execution_count": 17,
   "metadata": {},
   "outputs": [],
   "source": [
    "numeric = [\"fare_amount\", \"pickup_longitude\", \"pickup_latitude\", \"dropoff_longitude\", \"dropoff_latitude\"]"
   ]
  },
  {
   "cell_type": "code",
   "execution_count": 18,
   "metadata": {},
   "outputs": [
    {
     "name": "stdout",
     "output_type": "stream",
     "text": [
      "fare_amount\n",
      "-3.75\n",
      "22.25\n",
      "pickup_longitude\n",
      "-74.02678399999999\n",
      "-73.935688\n",
      "pickup_latitude\n",
      "40.693391500000004\n",
      "40.81095549999999\n",
      "dropoff_longitude\n",
      "-74.02568549999998\n",
      "-73.93545750000001\n",
      "dropoff_latitude\n",
      "40.694137874999996\n",
      "40.81141087500001\n"
     ]
    }
   ],
   "source": [
    "for i in numeric:\n",
    "    print(i)\n",
    "    q75, q25 = np.percentile(data.loc[:,i], [75 ,25])\n",
    "    iqr = q75 - q25\n",
    "    min = q25 - (iqr*1.5)\n",
    "    max = q75 + (iqr*1.5)\n",
    "    print(min)\n",
    "    print(max)\n",
    "    data = data.drop(data[data.loc[:,i] < min].index)\n",
    "    data = data.drop(data[data.loc[:,i] > max].index)"
   ]
  },
  {
   "cell_type": "code",
   "execution_count": 19,
   "metadata": {},
   "outputs": [
    {
     "data": {
      "text/plain": [
       "(13210, 7)"
      ]
     },
     "execution_count": 19,
     "metadata": {},
     "output_type": "execute_result"
    }
   ],
   "source": [
    "data.shape"
   ]
  },
  {
   "cell_type": "code",
   "execution_count": 71,
   "metadata": {},
   "outputs": [
    {
     "data": {
      "image/png": "[encoded data removed]",
      "text/plain": [
       "<Figure size 432x288 with 1 Axes>"
      ]
     },
     "metadata": {
      "needs_background": "light"
     },
     "output_type": "display_data"
    }
   ],
   "source": [
    "plt.hist(data['fare_amount'], bins = 10)\n",
    "plt.ylabel('No of times')\n",
    "plt.xlabel('Fare Amount')\n",
    "plt.show()"
   ]
  },
  {
   "cell_type": "code",
   "execution_count": null,
   "metadata": {},
   "outputs": [],
   "source": [
    "plt.hist(data['passenger_count'], bins = 5)\n",
    "plt.ylabel('No of times')\n",
    "plt.xlabel('Passenger Count')\n",
    "plt.show()"
   ]
  },
  {
   "cell_type": "code",
   "execution_count": null,
   "metadata": {},
   "outputs": [],
   "source": [
    "plt.hist(data['pickup_latitude'], bins = 5)\n",
    "plt.ylabel('No of times')\n",
    "plt.xlabel('Pickup Latitude')\n",
    "plt.show()"
   ]
  },
  {
   "cell_type": "markdown",
   "metadata": {},
   "source": [
    "# Feature Selection"
   ]
  },
  {
   "cell_type": "code",
   "execution_count": 20,
   "metadata": {},
   "outputs": [],
   "source": [
    "data['Date'] = pd.to_datetime(data['pickup_datetime'], errors='coerce')\n",
    "data['year'] = data['Date'].dt.year\n",
    "data['month'] = data['Date'].dt.month\n",
    "data['day'] = data['Date'].dt.day\n",
    "data['wday'] = data['Date'].dt.dayofweek\n",
    "data['hour'] = data['Date'].dt.hour\n",
    "data['minute'] = data['Date'].dt.minute"
   ]
  },
  {
   "cell_type": "code",
   "execution_count": 21,
   "metadata": {},
   "outputs": [],
   "source": [
    "from math import radians, cos, sin, asin, sqrt\n",
    "def distance(a):\n",
    "    plg=a[0]\n",
    "    plt=a[1]\n",
    "    dlg=a[2]\n",
    "    dlt=a[3]\n",
    "     \n",
    "    plg, plt, dlg, dlt = map(radians, [plg, plt, dlg, dlt])\n",
    "    \n",
    "    ddlg = dlg - plg \n",
    "    ddlt = dlt - plt \n",
    "    a = sin(ddlt/2)**2 + cos(plg) * cos(dlt) * sin(ddlg/2)**2\n",
    "    c =  2 * asin(sqrt(a)) \n",
    "   \n",
    "    km = 6371* c\n",
    "    return km"
   ]
  },
  {
   "cell_type": "code",
   "execution_count": 22,
   "metadata": {},
   "outputs": [],
   "source": [
    "data['distance']=data[['pickup_longitude','pickup_latitude','dropoff_longitude','dropoff_latitude']].apply(distance,axis=1)"
   ]
  },
  {
   "cell_type": "code",
   "execution_count": 23,
   "metadata": {},
   "outputs": [],
   "source": [
    "data=data.drop('pickup_longitude', axis=1)\n",
    "data=data.drop('pickup_latitude', axis=1)\n",
    "data=data.drop('dropoff_longitude', axis=1)\n",
    "data=data.drop('dropoff_latitude', axis=1)\n",
    "data=data.drop('pickup_datetime', axis=1)\n",
    "data=data.drop('Date', axis=1)"
   ]
  },
  {
   "cell_type": "code",
   "execution_count": 24,
   "metadata": {},
   "outputs": [
    {
     "data": {
      "text/plain": [
       "(13210, 9)"
      ]
     },
     "execution_count": 24,
     "metadata": {},
     "output_type": "execute_result"
    }
   ],
   "source": [
    "data.shape"
   ]
  },
  {
   "cell_type": "code",
   "execution_count": 25,
   "metadata": {},
   "outputs": [
    {
     "data": {
      "text/plain": [
       "fare_amount        float64\n",
       "passenger_count    float64\n",
       "year               float64\n",
       "month              float64\n",
       "day                float64\n",
       "wday               float64\n",
       "hour               float64\n",
       "minute             float64\n",
       "distance           float64\n",
       "dtype: object"
      ]
     },
     "execution_count": 25,
     "metadata": {},
     "output_type": "execute_result"
    }
   ],
   "source": [
    "data.dtypes"
   ]
  },
  {
   "cell_type": "markdown",
   "metadata": {},
   "source": [
    "# Creating Dummies"
   ]
  },
  {
   "cell_type": "code",
   "execution_count": 26,
   "metadata": {},
   "outputs": [],
   "source": [
    "data['passenger_count'] = pd.to_numeric(data['passenger_count'],errors='coerce')"
   ]
  },
  {
   "cell_type": "code",
   "execution_count": 27,
   "metadata": {},
   "outputs": [],
   "source": [
    "data = data.drop(data['passenger_count'][data.passenger_count>6].index, axis=0)"
   ]
  },
  {
   "cell_type": "code",
   "execution_count": 28,
   "metadata": {},
   "outputs": [],
   "source": [
    "data = data.drop(data['passenger_count'][data.passenger_count<1].index, axis=0)"
   ]
  },
  {
   "cell_type": "code",
   "execution_count": 29,
   "metadata": {},
   "outputs": [
    {
     "data": {
      "text/plain": [
       "array([1.0, 2.0, 3.0, 6.0, 5.0, 4.0], dtype=object)"
      ]
     },
     "execution_count": 29,
     "metadata": {},
     "output_type": "execute_result"
    }
   ],
   "source": [
    "data['passenger_count'] = data['passenger_count'].astype(object)\n",
    "data['passenger_count'].unique()"
   ]
  },
  {
   "cell_type": "code",
   "execution_count": 30,
   "metadata": {},
   "outputs": [],
   "source": [
    "for i in range(0,data.shape[0]):\n",
    "        if(data.iloc[i,6]<5):\n",
    "            data.iloc[i, 6] = \"EarlyMorning\"\n",
    "        elif(5 < data.iloc[i, 6] < 10):\n",
    "            data.iloc[i, 6] = \"Morning\"\n",
    "        elif(10 < data.iloc[i, 6] < 17):\n",
    "            data.iloc[i, 6] = \"Daytime\"\n",
    "        elif(17 < data.iloc[i,6] < 20):\n",
    "            data.iloc[i, 6] = \"Night\"\n",
    "        else:\n",
    "            data.iloc[i, 6] = \"LateNight\""
   ]
  },
  {
   "cell_type": "code",
   "execution_count": 31,
   "metadata": {},
   "outputs": [
    {
     "data": {
      "text/plain": [
       "array(['Daytime', 'EarlyMorning', 'Morning', 'LateNight', 'Night'],\n",
       "      dtype=object)"
      ]
     },
     "execution_count": 31,
     "metadata": {},
     "output_type": "execute_result"
    }
   ],
   "source": [
    "data['hour']. unique()"
   ]
  },
  {
   "cell_type": "code",
   "execution_count": 32,
   "metadata": {},
   "outputs": [],
   "source": [
    "data['hour'] = data['hour'].astype(object)"
   ]
  },
  {
   "cell_type": "code",
   "execution_count": 33,
   "metadata": {},
   "outputs": [],
   "source": [
    "data['year'] = data['year'].astype(object)\n",
    "data['month'] = data['month'].astype(object)\n",
    "data['wday'] = data['wday'].astype(object)"
   ]
  },
  {
   "cell_type": "code",
   "execution_count": 34,
   "metadata": {},
   "outputs": [
    {
     "data": {
      "text/plain": [
       "fare_amount        float64\n",
       "passenger_count     object\n",
       "year                object\n",
       "month               object\n",
       "day                float64\n",
       "wday                object\n",
       "hour                object\n",
       "minute             float64\n",
       "distance           float64\n",
       "dtype: object"
      ]
     },
     "execution_count": 34,
     "metadata": {},
     "output_type": "execute_result"
    }
   ],
   "source": [
    "data.dtypes"
   ]
  },
  {
   "cell_type": "code",
   "execution_count": 35,
   "metadata": {},
   "outputs": [],
   "source": [
    "factor_variables = [\"year\", \"hour\", \"month\", \"passenger_count\"]\n",
    "\n",
    "for i in factor_variables:\n",
    "    temp = pd.get_dummies(data[i], prefix = i)\n",
    "    data_train = data.join(temp)"
   ]
  },
  {
   "cell_type": "code",
   "execution_count": 36,
   "metadata": {},
   "outputs": [],
   "source": [
    "t = pd.get_dummies(data['year'], prefix = \"year\")"
   ]
  },
  {
   "cell_type": "code",
   "execution_count": 37,
   "metadata": {},
   "outputs": [],
   "source": [
    "data_train = data_train.join(t)"
   ]
  },
  {
   "cell_type": "code",
   "execution_count": 38,
   "metadata": {},
   "outputs": [],
   "source": [
    "h = pd.get_dummies(data['hour'], prefix = \"hour\")\n",
    "data_train = data_train.join(h)"
   ]
  },
  {
   "cell_type": "code",
   "execution_count": 39,
   "metadata": {},
   "outputs": [],
   "source": [
    "m = pd.get_dummies(data['month'], prefix = \"month\")\n",
    "data_train = data_train.join(m)"
   ]
  },
  {
   "cell_type": "code",
   "execution_count": 40,
   "metadata": {},
   "outputs": [
    {
     "data": {
      "text/plain": [
       "Index(['fare_amount', 'passenger_count', 'year', 'month', 'day', 'wday',\n",
       "       'hour', 'minute', 'distance', 'passenger_count_1.0',\n",
       "       'passenger_count_2.0', 'passenger_count_3.0', 'passenger_count_4.0',\n",
       "       'passenger_count_5.0', 'passenger_count_6.0', 'year_2009.0',\n",
       "       'year_2010.0', 'year_2011.0', 'year_2012.0', 'year_2013.0',\n",
       "       'year_2014.0', 'year_2015.0', 'hour_Daytime', 'hour_EarlyMorning',\n",
       "       'hour_LateNight', 'hour_Morning', 'hour_Night', 'month_1.0',\n",
       "       'month_2.0', 'month_3.0', 'month_4.0', 'month_5.0', 'month_6.0',\n",
       "       'month_7.0', 'month_8.0', 'month_9.0', 'month_10.0', 'month_11.0',\n",
       "       'month_12.0'],\n",
       "      dtype='object')"
      ]
     },
     "execution_count": 40,
     "metadata": {},
     "output_type": "execute_result"
    }
   ],
   "source": [
    "data_train.columns"
   ]
  },
  {
   "cell_type": "code",
   "execution_count": 41,
   "metadata": {},
   "outputs": [],
   "source": [
    "data_train = data_train.drop('passenger_count', axis=1)\n",
    "data_train = data_train.drop('year', axis=1)\n",
    "data_train = data_train.drop('month', axis=1)\n",
    "data_train = data_train.drop('day', axis=1)\n",
    "data_train = data_train.drop('wday', axis=1)\n",
    "data_train = data_train.drop('hour', axis=1)\n",
    "data_train = data_train.drop('minute', axis=1)"
   ]
  },
  {
   "cell_type": "code",
   "execution_count": 42,
   "metadata": {},
   "outputs": [
    {
     "data": {
      "text/plain": [
       "(13143, 32)"
      ]
     },
     "execution_count": 42,
     "metadata": {},
     "output_type": "execute_result"
    }
   ],
   "source": [
    "data_train.shape"
   ]
  },
  {
   "cell_type": "code",
   "execution_count": 43,
   "metadata": {},
   "outputs": [
    {
     "data": {
      "text/plain": [
       "Index(['fare_amount', 'distance', 'passenger_count_1.0', 'passenger_count_2.0',\n",
       "       'passenger_count_3.0', 'passenger_count_4.0', 'passenger_count_5.0',\n",
       "       'passenger_count_6.0', 'year_2009.0', 'year_2010.0', 'year_2011.0',\n",
       "       'year_2012.0', 'year_2013.0', 'year_2014.0', 'year_2015.0',\n",
       "       'hour_Daytime', 'hour_EarlyMorning', 'hour_LateNight', 'hour_Morning',\n",
       "       'hour_Night', 'month_1.0', 'month_2.0', 'month_3.0', 'month_4.0',\n",
       "       'month_5.0', 'month_6.0', 'month_7.0', 'month_8.0', 'month_9.0',\n",
       "       'month_10.0', 'month_11.0', 'month_12.0'],\n",
       "      dtype='object')"
      ]
     },
     "execution_count": 43,
     "metadata": {},
     "output_type": "execute_result"
    }
   ],
   "source": [
    "data_train.columns"
   ]
  },
  {
   "cell_type": "markdown",
   "metadata": {},
   "source": [
    "# Exploratory Data Analysis"
   ]
  },
  {
   "cell_type": "code",
   "execution_count": 44,
   "metadata": {},
   "outputs": [
    {
     "data": {
      "text/plain": [
       "Text(0, 0.5, 'fare_amount')"
      ]
     },
     "execution_count": 44,
     "metadata": {},
     "output_type": "execute_result"
    },
    {
     "data": {
      "image/png": "[encoded data removed]",
      "text/plain": [
       "<Figure size 432x288 with 1 Axes>"
      ]
     },
     "metadata": {
      "needs_background": "light"
     },
     "output_type": "display_data"
    }
   ],
   "source": [
    "plt.scatter(x=data['passenger_count'], y=data['fare_amount'], s=1)\n",
    "plt.xlabel('passenger_count')\n",
    "plt.ylabel('fare_amount')"
   ]
  },
  {
   "cell_type": "code",
   "execution_count": 45,
   "metadata": {},
   "outputs": [
    {
     "data": {
      "text/plain": [
       "Text(0, 0.5, 'fare_amount')"
      ]
     },
     "execution_count": 45,
     "metadata": {},
     "output_type": "execute_result"
    },
    {
     "data": {
      "image/png": "[encoded data removed]",
      "text/plain": [
       "<Figure size 432x288 with 1 Axes>"
      ]
     },
     "metadata": {
      "needs_background": "light"
     },
     "output_type": "display_data"
    }
   ],
   "source": [
    "plt.scatter(x=data['hour'], y=data['fare_amount'], s=1)\n",
    "plt.xlabel('hour')\n",
    "plt.ylabel('fare_amount')"
   ]
  },
  {
   "cell_type": "code",
   "execution_count": 46,
   "metadata": {},
   "outputs": [
    {
     "data": {
      "text/plain": [
       "Text(0, 0.5, 'fare_amount')"
      ]
     },
     "execution_count": 46,
     "metadata": {},
     "output_type": "execute_result"
    },
    {
     "data": {
      "image/png": "[encoded data removed]",
      "text/plain": [
       "<Figure size 432x288 with 1 Axes>"
      ]
     },
     "metadata": {
      "needs_background": "light"
     },
     "output_type": "display_data"
    }
   ],
   "source": [
    "plt.scatter(x=data['month'], y=data['fare_amount'], s=1)\n",
    "plt.xlabel('month')\n",
    "plt.ylabel('fare_amount')"
   ]
  },
  {
   "cell_type": "code",
   "execution_count": 47,
   "metadata": {},
   "outputs": [
    {
     "data": {
      "text/plain": [
       "Text(0, 0.5, 'fare_amount')"
      ]
     },
     "execution_count": 47,
     "metadata": {},
     "output_type": "execute_result"
    },
    {
     "data": {
      "image/png": "[encoded data removed]",
      "text/plain": [
       "<Figure size 432x288 with 1 Axes>"
      ]
     },
     "metadata": {
      "needs_background": "light"
     },
     "output_type": "display_data"
    }
   ],
   "source": [
    "plt.scatter(x=data['wday'], y=data['fare_amount'], s=1)\n",
    "plt.xlabel('wday')\n",
    "plt.ylabel('fare_amount')"
   ]
  },
  {
   "cell_type": "code",
   "execution_count": 48,
   "metadata": {},
   "outputs": [
    {
     "data": {
      "text/plain": [
       "Text(0, 0.5, 'fare_amount')"
      ]
     },
     "execution_count": 48,
     "metadata": {},
     "output_type": "execute_result"
    },
    {
     "data": {
      "image/png": "[encoded data removed]",
      "text/plain": [
       "<Figure size 432x288 with 1 Axes>"
      ]
     },
     "metadata": {
      "needs_background": "light"
     },
     "output_type": "display_data"
    }
   ],
   "source": [
    "plt.scatter(x=data['distance'], y=data['fare_amount'], s=1)\n",
    "plt.xlabel('distance')\n",
    "plt.ylabel('fare_amount')"
   ]
  },
  {
   "cell_type": "markdown",
   "metadata": {},
   "source": [
    "# Sampling"
   ]
  },
  {
   "cell_type": "code",
   "execution_count": 49,
   "metadata": {},
   "outputs": [
    {
     "name": "stdout",
     "output_type": "stream",
     "text": [
      "Collecting sklearn.model_selection\n"
     ]
    },
    {
     "name": "stderr",
     "output_type": "stream",
     "text": [
      "  Could not find a version that satisfies the requirement sklearn.model_selection (from versions: )\n",
      "No matching distribution found for sklearn.model_selection\n"
     ]
    }
   ],
   "source": [
    "!pip install sklearn.model_selection\n",
    "from sklearn.model_selection import train_test_split\n",
    "train, test = train_test_split(data_train, test_size = 0.25, random_state = 35)"
   ]
  },
  {
   "cell_type": "code",
   "execution_count": 50,
   "metadata": {},
   "outputs": [
    {
     "data": {
      "text/plain": [
       "9857"
      ]
     },
     "execution_count": 50,
     "metadata": {},
     "output_type": "execute_result"
    }
   ],
   "source": [
    "len(train)"
   ]
  },
  {
   "cell_type": "markdown",
   "metadata": {},
   "source": [
    "# Model Development"
   ]
  },
  {
   "cell_type": "code",
   "execution_count": 51,
   "metadata": {},
   "outputs": [],
   "source": [
    "import statsmodels.api as sm\n",
    "\n",
    "model = sm.OLS(train.iloc[:,0], train.iloc[:,1:31]).fit()"
   ]
  },
  {
   "cell_type": "code",
   "execution_count": 52,
   "metadata": {},
   "outputs": [
    {
     "data": {
      "text/html": [
       "<table class=\"simpletable\">\n",
       "<caption>OLS Regression Results</caption>\n",
       "<tr>\n",
       "  <th>Dep. Variable:</th>       <td>fare_amount</td>   <th>  R-squared:         </th> <td>   0.658</td> \n",
       "</tr>\n",
       "<tr>\n",
       "  <th>Model:</th>                   <td>OLS</td>       <th>  Adj. R-squared:    </th> <td>   0.657</td> \n",
       "</tr>\n",
       "<tr>\n",
       "  <th>Method:</th>             <td>Least Squares</td>  <th>  F-statistic:       </th> <td>   676.6</td> \n",
       "</tr>\n",
       "<tr>\n",
       "  <th>Date:</th>             <td>Fri, 21 Jun 2019</td> <th>  Prob (F-statistic):</th>  <td>  0.00</td>  \n",
       "</tr>\n",
       "<tr>\n",
       "  <th>Time:</th>                 <td>10:30:10</td>     <th>  Log-Likelihood:    </th> <td> -21889.</td> \n",
       "</tr>\n",
       "<tr>\n",
       "  <th>No. Observations:</th>      <td>  9857</td>      <th>  AIC:               </th> <td>4.384e+04</td>\n",
       "</tr>\n",
       "<tr>\n",
       "  <th>Df Residuals:</th>          <td>  9828</td>      <th>  BIC:               </th> <td>4.404e+04</td>\n",
       "</tr>\n",
       "<tr>\n",
       "  <th>Df Model:</th>              <td>    28</td>      <th>                     </th>     <td> </td>    \n",
       "</tr>\n",
       "<tr>\n",
       "  <th>Covariance Type:</th>      <td>nonrobust</td>    <th>                     </th>     <td> </td>    \n",
       "</tr>\n",
       "</table>\n",
       "<table class=\"simpletable\">\n",
       "<tr>\n",
       "           <td></td>              <th>coef</th>     <th>std err</th>      <th>t</th>      <th>P>|t|</th>  <th>[0.025</th>    <th>0.975]</th>  \n",
       "</tr>\n",
       "<tr>\n",
       "  <th>distance</th>            <td>    2.0199</td> <td>    0.015</td> <td>  134.028</td> <td> 0.000</td> <td>    1.990</td> <td>    2.049</td>\n",
       "</tr>\n",
       "<tr>\n",
       "  <th>passenger_count_1.0</th> <td>    2.0663</td> <td>    1.016</td> <td>    2.034</td> <td> 0.042</td> <td>    0.075</td> <td>    4.057</td>\n",
       "</tr>\n",
       "<tr>\n",
       "  <th>passenger_count_2.0</th> <td>    2.1241</td> <td>    1.017</td> <td>    2.088</td> <td> 0.037</td> <td>    0.130</td> <td>    4.118</td>\n",
       "</tr>\n",
       "<tr>\n",
       "  <th>passenger_count_3.0</th> <td>    2.2588</td> <td>    1.020</td> <td>    2.213</td> <td> 0.027</td> <td>    0.258</td> <td>    4.259</td>\n",
       "</tr>\n",
       "<tr>\n",
       "  <th>passenger_count_4.0</th> <td>    2.2306</td> <td>    1.026</td> <td>    2.174</td> <td> 0.030</td> <td>    0.219</td> <td>    4.242</td>\n",
       "</tr>\n",
       "<tr>\n",
       "  <th>passenger_count_5.0</th> <td>    2.1086</td> <td>    1.019</td> <td>    2.070</td> <td> 0.038</td> <td>    0.112</td> <td>    4.105</td>\n",
       "</tr>\n",
       "<tr>\n",
       "  <th>passenger_count_6.0</th> <td>    2.2525</td> <td>    1.026</td> <td>    2.195</td> <td> 0.028</td> <td>    0.241</td> <td>    4.264</td>\n",
       "</tr>\n",
       "<tr>\n",
       "  <th>year_2009.0</th>         <td>   -0.7731</td> <td>    2.235</td> <td>   -0.346</td> <td> 0.729</td> <td>   -5.154</td> <td>    3.608</td>\n",
       "</tr>\n",
       "<tr>\n",
       "  <th>year_2010.0</th>         <td>   -0.8376</td> <td>    2.235</td> <td>   -0.375</td> <td> 0.708</td> <td>   -5.219</td> <td>    3.544</td>\n",
       "</tr>\n",
       "<tr>\n",
       "  <th>year_2011.0</th>         <td>   -0.7373</td> <td>    2.235</td> <td>   -0.330</td> <td> 0.741</td> <td>   -5.119</td> <td>    3.644</td>\n",
       "</tr>\n",
       "<tr>\n",
       "  <th>year_2012.0</th>         <td>   -0.1961</td> <td>    2.235</td> <td>   -0.088</td> <td> 0.930</td> <td>   -4.577</td> <td>    4.185</td>\n",
       "</tr>\n",
       "<tr>\n",
       "  <th>year_2013.0</th>         <td>    0.5979</td> <td>    2.235</td> <td>    0.268</td> <td> 0.789</td> <td>   -3.783</td> <td>    4.979</td>\n",
       "</tr>\n",
       "<tr>\n",
       "  <th>year_2014.0</th>         <td>    0.8490</td> <td>    2.235</td> <td>    0.380</td> <td> 0.704</td> <td>   -3.533</td> <td>    5.230</td>\n",
       "</tr>\n",
       "<tr>\n",
       "  <th>year_2015.0</th>         <td>    1.0325</td> <td>    2.236</td> <td>    0.462</td> <td> 0.644</td> <td>   -3.351</td> <td>    5.416</td>\n",
       "</tr>\n",
       "<tr>\n",
       "  <th>hour_Daytime</th>        <td>    2.9944</td> <td>    1.219</td> <td>    2.456</td> <td> 0.014</td> <td>    0.604</td> <td>    5.384</td>\n",
       "</tr>\n",
       "<tr>\n",
       "  <th>hour_EarlyMorning</th>   <td>    2.1626</td> <td>    1.221</td> <td>    1.772</td> <td> 0.076</td> <td>   -0.230</td> <td>    4.555</td>\n",
       "</tr>\n",
       "<tr>\n",
       "  <th>hour_LateNight</th>      <td>    2.4373</td> <td>    1.219</td> <td>    2.000</td> <td> 0.046</td> <td>    0.049</td> <td>    4.826</td>\n",
       "</tr>\n",
       "<tr>\n",
       "  <th>hour_Morning</th>        <td>    2.6492</td> <td>    1.220</td> <td>    2.172</td> <td> 0.030</td> <td>    0.258</td> <td>    5.040</td>\n",
       "</tr>\n",
       "<tr>\n",
       "  <th>hour_Night</th>          <td>    2.7974</td> <td>    1.220</td> <td>    2.293</td> <td> 0.022</td> <td>    0.406</td> <td>    5.189</td>\n",
       "</tr>\n",
       "<tr>\n",
       "  <th>month_1.0</th>           <td>   -0.5485</td> <td>    0.110</td> <td>   -4.973</td> <td> 0.000</td> <td>   -0.765</td> <td>   -0.332</td>\n",
       "</tr>\n",
       "<tr>\n",
       "  <th>month_2.0</th>           <td>   -0.4104</td> <td>    0.113</td> <td>   -3.630</td> <td> 0.000</td> <td>   -0.632</td> <td>   -0.189</td>\n",
       "</tr>\n",
       "<tr>\n",
       "  <th>month_3.0</th>           <td>   -0.3810</td> <td>    0.110</td> <td>   -3.454</td> <td> 0.001</td> <td>   -0.597</td> <td>   -0.165</td>\n",
       "</tr>\n",
       "<tr>\n",
       "  <th>month_4.0</th>           <td>   -0.3571</td> <td>    0.111</td> <td>   -3.206</td> <td> 0.001</td> <td>   -0.575</td> <td>   -0.139</td>\n",
       "</tr>\n",
       "<tr>\n",
       "  <th>month_5.0</th>           <td>   -0.0833</td> <td>    0.110</td> <td>   -0.757</td> <td> 0.449</td> <td>   -0.299</td> <td>    0.133</td>\n",
       "</tr>\n",
       "<tr>\n",
       "  <th>month_6.0</th>           <td>   -0.1603</td> <td>    0.110</td> <td>   -1.457</td> <td> 0.145</td> <td>   -0.376</td> <td>    0.055</td>\n",
       "</tr>\n",
       "<tr>\n",
       "  <th>month_7.0</th>           <td>   -0.2055</td> <td>    0.116</td> <td>   -1.772</td> <td> 0.076</td> <td>   -0.433</td> <td>    0.022</td>\n",
       "</tr>\n",
       "<tr>\n",
       "  <th>month_8.0</th>           <td>   -0.3503</td> <td>    0.118</td> <td>   -2.965</td> <td> 0.003</td> <td>   -0.582</td> <td>   -0.119</td>\n",
       "</tr>\n",
       "<tr>\n",
       "  <th>month_9.0</th>           <td>    0.0103</td> <td>    0.116</td> <td>    0.089</td> <td> 0.929</td> <td>   -0.217</td> <td>    0.238</td>\n",
       "</tr>\n",
       "<tr>\n",
       "  <th>month_10.0</th>          <td>    0.0981</td> <td>    0.114</td> <td>    0.859</td> <td> 0.391</td> <td>   -0.126</td> <td>    0.322</td>\n",
       "</tr>\n",
       "<tr>\n",
       "  <th>month_11.0</th>          <td>    0.1057</td> <td>    0.115</td> <td>    0.923</td> <td> 0.356</td> <td>   -0.119</td> <td>    0.330</td>\n",
       "</tr>\n",
       "</table>\n",
       "<table class=\"simpletable\">\n",
       "<tr>\n",
       "  <th>Omnibus:</th>       <td>2751.066</td> <th>  Durbin-Watson:     </th> <td>   2.004</td> \n",
       "</tr>\n",
       "<tr>\n",
       "  <th>Prob(Omnibus):</th>  <td> 0.000</td>  <th>  Jarque-Bera (JB):  </th> <td>11176.793</td>\n",
       "</tr>\n",
       "<tr>\n",
       "  <th>Skew:</th>           <td> 1.330</td>  <th>  Prob(JB):          </th> <td>    0.00</td> \n",
       "</tr>\n",
       "<tr>\n",
       "  <th>Kurtosis:</th>       <td> 7.488</td>  <th>  Cond. No.          </th> <td>2.25e+15</td> \n",
       "</tr>\n",
       "</table><br/><br/>Warnings:<br/>[1] Standard Errors assume that the covariance matrix of the errors is correctly specified.<br/>[2] The smallest eigenvalue is 1.39e-26. This might indicate that there are<br/>strong multicollinearity problems or that the design matrix is singular."
      ],
      "text/plain": [
       "<class 'statsmodels.iolib.summary.Summary'>\n",
       "\"\"\"\n",
       "                            OLS Regression Results                            \n",
       "==============================================================================\n",
       "Dep. Variable:            fare_amount   R-squared:                       0.658\n",
       "Model:                            OLS   Adj. R-squared:                  0.657\n",
       "Method:                 Least Squares   F-statistic:                     676.6\n",
       "Date:                Fri, 21 Jun 2019   Prob (F-statistic):               0.00\n",
       "Time:                        10:30:10   Log-Likelihood:                -21889.\n",
       "No. Observations:                9857   AIC:                         4.384e+04\n",
       "Df Residuals:                    9828   BIC:                         4.404e+04\n",
       "Df Model:                          28                                         \n",
       "Covariance Type:            nonrobust                                         \n",
       "=======================================================================================\n",
       "                          coef    std err          t      P>|t|      [0.025      0.975]\n",
       "---------------------------------------------------------------------------------------\n",
       "distance                2.0199      0.015    134.028      0.000       1.990       2.049\n",
       "passenger_count_1.0     2.0663      1.016      2.034      0.042       0.075       4.057\n",
       "passenger_count_2.0     2.1241      1.017      2.088      0.037       0.130       4.118\n",
       "passenger_count_3.0     2.2588      1.020      2.213      0.027       0.258       4.259\n",
       "passenger_count_4.0     2.2306      1.026      2.174      0.030       0.219       4.242\n",
       "passenger_count_5.0     2.1086      1.019      2.070      0.038       0.112       4.105\n",
       "passenger_count_6.0     2.2525      1.026      2.195      0.028       0.241       4.264\n",
       "year_2009.0            -0.7731      2.235     -0.346      0.729      -5.154       3.608\n",
       "year_2010.0            -0.8376      2.235     -0.375      0.708      -5.219       3.544\n",
       "year_2011.0            -0.7373      2.235     -0.330      0.741      -5.119       3.644\n",
       "year_2012.0            -0.1961      2.235     -0.088      0.930      -4.577       4.185\n",
       "year_2013.0             0.5979      2.235      0.268      0.789      -3.783       4.979\n",
       "year_2014.0             0.8490      2.235      0.380      0.704      -3.533       5.230\n",
       "year_2015.0             1.0325      2.236      0.462      0.644      -3.351       5.416\n",
       "hour_Daytime            2.9944      1.219      2.456      0.014       0.604       5.384\n",
       "hour_EarlyMorning       2.1626      1.221      1.772      0.076      -0.230       4.555\n",
       "hour_LateNight          2.4373      1.219      2.000      0.046       0.049       4.826\n",
       "hour_Morning            2.6492      1.220      2.172      0.030       0.258       5.040\n",
       "hour_Night              2.7974      1.220      2.293      0.022       0.406       5.189\n",
       "month_1.0              -0.5485      0.110     -4.973      0.000      -0.765      -0.332\n",
       "month_2.0              -0.4104      0.113     -3.630      0.000      -0.632      -0.189\n",
       "month_3.0              -0.3810      0.110     -3.454      0.001      -0.597      -0.165\n",
       "month_4.0              -0.3571      0.111     -3.206      0.001      -0.575      -0.139\n",
       "month_5.0              -0.0833      0.110     -0.757      0.449      -0.299       0.133\n",
       "month_6.0              -0.1603      0.110     -1.457      0.145      -0.376       0.055\n",
       "month_7.0              -0.2055      0.116     -1.772      0.076      -0.433       0.022\n",
       "month_8.0              -0.3503      0.118     -2.965      0.003      -0.582      -0.119\n",
       "month_9.0               0.0103      0.116      0.089      0.929      -0.217       0.238\n",
       "month_10.0              0.0981      0.114      0.859      0.391      -0.126       0.322\n",
       "month_11.0              0.1057      0.115      0.923      0.356      -0.119       0.330\n",
       "==============================================================================\n",
       "Omnibus:                     2751.066   Durbin-Watson:                   2.004\n",
       "Prob(Omnibus):                  0.000   Jarque-Bera (JB):            11176.793\n",
       "Skew:                           1.330   Prob(JB):                         0.00\n",
       "Kurtosis:                       7.488   Cond. No.                     2.25e+15\n",
       "==============================================================================\n",
       "\n",
       "Warnings:\n",
       "[1] Standard Errors assume that the covariance matrix of the errors is correctly specified.\n",
       "[2] The smallest eigenvalue is 1.39e-26. This might indicate that there are\n",
       "strong multicollinearity problems or that the design matrix is singular.\n",
       "\"\"\""
      ]
     },
     "execution_count": 52,
     "metadata": {},
     "output_type": "execute_result"
    }
   ],
   "source": [
    "model.summary()"
   ]
  },
  {
   "cell_type": "code",
   "execution_count": 53,
   "metadata": {},
   "outputs": [
    {
     "data": {
      "text/plain": [
       "(3286, 32)"
      ]
     },
     "execution_count": 53,
     "metadata": {},
     "output_type": "execute_result"
    }
   ],
   "source": [
    "test.shape"
   ]
  },
  {
   "cell_type": "code",
   "execution_count": 54,
   "metadata": {},
   "outputs": [
    {
     "name": "stderr",
     "output_type": "stream",
     "text": [
      "C:\\Users\\Student\\Anaconda3\\lib\\site-packages\\ipykernel_launcher.py:1: SettingWithCopyWarning: \n",
      "A value is trying to be set on a copy of a slice from a DataFrame.\n",
      "Try using .loc[row_indexer,col_indexer] = value instead\n",
      "\n",
      "See the caveats in the documentation: http://pandas.pydata.org/pandas-docs/stable/indexing.html#indexing-view-versus-copy\n",
      "  \"\"\"Entry point for launching an IPython kernel.\n"
     ]
    }
   ],
   "source": [
    "test['pred'] = model.predict(test.iloc[:,1:31]) "
   ]
  },
  {
   "cell_type": "code",
   "execution_count": 55,
   "metadata": {},
   "outputs": [
    {
     "data": {
      "text/plain": [
       "14258    12.125248\n",
       "11219     7.871284\n",
       "14673    10.846136\n",
       "14462    11.906947\n",
       "1716      6.111009\n",
       "Name: pred, dtype: float64"
      ]
     },
     "execution_count": 55,
     "metadata": {},
     "output_type": "execute_result"
    }
   ],
   "source": [
    "test['pred'].head(5)"
   ]
  },
  {
   "cell_type": "code",
   "execution_count": 56,
   "metadata": {},
   "outputs": [
    {
     "data": {
      "text/plain": [
       "21.26936717655406"
      ]
     },
     "execution_count": 56,
     "metadata": {},
     "output_type": "execute_result"
    }
   ],
   "source": [
    "def MAPE(y_act, y_pred): \n",
    "    mape = np.mean(np.abs((y_act - y_pred) / y_act))*100\n",
    "    return mape\n",
    "MAPE(test.iloc[:,0], test['pred'])"
   ]
  },
  {
   "cell_type": "code",
   "execution_count": 57,
   "metadata": {},
   "outputs": [
    {
     "data": {
      "text/plain": [
       "1.6964490759696795"
      ]
     },
     "execution_count": 57,
     "metadata": {},
     "output_type": "execute_result"
    }
   ],
   "source": [
    "def MAE(y_act, y_pred): \n",
    "    mae = np.mean(np.abs(y_act - y_pred))\n",
    "    return mae\n",
    "MAE(test.iloc[:,0], test['pred'])"
   ]
  },
  {
   "cell_type": "code",
   "execution_count": 58,
   "metadata": {},
   "outputs": [
    {
     "data": {
      "text/plain": [
       "5.4089519203102"
      ]
     },
     "execution_count": 58,
     "metadata": {},
     "output_type": "execute_result"
    }
   ],
   "source": [
    "def MSE(y_act, y_pred): \n",
    "    mse = np.mean(np.square(y_act - y_pred))\n",
    "    return mse\n",
    "MSE(test.iloc[:,0], test['pred'])"
   ]
  },
  {
   "cell_type": "code",
   "execution_count": 59,
   "metadata": {},
   "outputs": [
    {
     "data": {
      "text/plain": [
       "2.325715356682799"
      ]
     },
     "execution_count": 59,
     "metadata": {},
     "output_type": "execute_result"
    }
   ],
   "source": [
    "def RMSE(y_act, y_pred): \n",
    "    rmse = np.sqrt(np.mean(np.square(y_act - y_pred)))\n",
    "    return rmse\n",
    "RMSE(test.iloc[:,0], test['pred'])"
   ]
  },
  {
   "cell_type": "code",
   "execution_count": 60,
   "metadata": {},
   "outputs": [],
   "source": [
    "#Error Metrics\n",
    "#MAPE = 21.2694%\n",
    "#MAE = 1.6964\n",
    "#MSE = 5.4089\n",
    "#RMSE = 2.2357"
   ]
  },
  {
   "cell_type": "markdown",
   "metadata": {},
   "source": [
    "# Predicting the Unseen Values"
   ]
  },
  {
   "cell_type": "code",
   "execution_count": null,
   "metadata": {},
   "outputs": [],
   "source": [
    "data_test = pd.read_csv(\"test.csv\")"
   ]
  },
  {
   "cell_type": "code",
   "execution_count": null,
   "metadata": {},
   "outputs": [],
   "source": [
    "data_test['Date'] = pd.to_datetime(data_test['pickup_datetime'], errors='coerce')\n",
    "data_test['year'] = data_test['Date'].dt.year\n",
    "data_test['month'] = data_test['Date'].dt.month\n",
    "data_test['day'] = data_test['Date'].dt.day\n",
    "data_test['wday'] = data_test['Date'].dt.dayofweek\n",
    "data_test['hour'] = data_test['Date'].dt.hour\n",
    "data_test['minute'] = data_test['Date'].dt.minute"
   ]
  },
  {
   "cell_type": "code",
   "execution_count": null,
   "metadata": {},
   "outputs": [],
   "source": [
    "data_test['distance']=data_test[['pickup_longitude','pickup_latitude','dropoff_longitude','dropoff_latitude']].apply(distance,axis=1)"
   ]
  },
  {
   "cell_type": "code",
   "execution_count": null,
   "metadata": {},
   "outputs": [],
   "source": [
    "data_test=data_test.drop('pickup_longitude', axis=1)\n",
    "data_test=data_test.drop('pickup_latitude', axis=1)\n",
    "data_test=data_test.drop('dropoff_longitude', axis=1)\n",
    "data_test=data_test.drop('dropoff_latitude', axis=1)\n",
    "data_test=data_test.drop('pickup_datetime', axis=1)\n",
    "data_test=data_test.drop('Date', axis=1)"
   ]
  },
  {
   "cell_type": "code",
   "execution_count": null,
   "metadata": {},
   "outputs": [],
   "source": [
    "data_test['passenger_count'] = pd.to_numeric(data_test['passenger_count'],errors='coerce')"
   ]
  },
  {
   "cell_type": "code",
   "execution_count": null,
   "metadata": {},
   "outputs": [],
   "source": [
    "data_test['passenger_count'] = data_test['passenger_count'].astype(object)"
   ]
  },
  {
   "cell_type": "code",
   "execution_count": null,
   "metadata": {},
   "outputs": [],
   "source": [
    "data_test.columns"
   ]
  },
  {
   "cell_type": "code",
   "execution_count": null,
   "metadata": {},
   "outputs": [],
   "source": [
    "for i in range(0,data_test.shape[0]):\n",
    "        if(data_test.iloc[i,5]<5):\n",
    "            data_test.iloc[i, 5] = \"EarlyMorning\"\n",
    "        elif(5 < data_test.iloc[i, 5] < 10):\n",
    "            data_test.iloc[i, 5] = \"Morning\"\n",
    "        elif(10 < data_test.iloc[i, 5] < 17):\n",
    "            data_test.iloc[i, 5] = \"Daytime\"\n",
    "        elif(17 < data_test.iloc[i,5] < 20):\n",
    "            data_test.iloc[i, 5] = \"Night\"\n",
    "        else:\n",
    "            data_test.iloc[i, 5] = \"LateNight\""
   ]
  },
  {
   "cell_type": "code",
   "execution_count": null,
   "metadata": {},
   "outputs": [],
   "source": [
    "data_test['hour'] = data_test['hour'].astype(object)\n",
    "data_test['year'] = data_test['year'].astype(object)\n",
    "data_test['month'] = data_test['month'].astype(object)\n",
    "data_test['wday'] = data_test['wday'].astype(object)"
   ]
  },
  {
   "cell_type": "code",
   "execution_count": null,
   "metadata": {},
   "outputs": [],
   "source": [
    "factor_variables = [\"year\", \"hour\", \"month\", \"passenger_count\"]\n",
    "\n",
    "for i in factor_variables:\n",
    "    temp = pd.get_dummies(data_test[i], prefix = i)\n",
    "    data_test = data_test.join(temp)"
   ]
  },
  {
   "cell_type": "code",
   "execution_count": null,
   "metadata": {},
   "outputs": [],
   "source": [
    "data_test = data_test.drop('passenger_count', axis=1)\n",
    "data_test = data_test.drop('year', axis=1)\n",
    "data_test = data_test.drop('month', axis=1)\n",
    "data_test = data_test.drop('day', axis=1)\n",
    "data_test = data_test.drop('wday', axis=1)\n",
    "data_test = data_test.drop('hour', axis=1)\n",
    "data_test = data_test.drop('minute', axis=1)"
   ]
  },
  {
   "cell_type": "code",
   "execution_count": null,
   "metadata": {},
   "outputs": [],
   "source": [
    "data_test.shape"
   ]
  },
  {
   "cell_type": "code",
   "execution_count": null,
   "metadata": {},
   "outputs": [],
   "source": [
    "data_test['pred'] = model.predict(data_test.iloc[:,0:30]) "
   ]
  },
  {
   "cell_type": "code",
   "execution_count": null,
   "metadata": {},
   "outputs": [],
   "source": [
    "data_test.head(10)"
   ]
  }
 ],
 "metadata": {
  "kernelspec": {
   "display_name": "Python 3",
   "language": "python",
   "name": "python3"
  },
  "language_info": {
   "codemirror_mode": {
    "name": "ipython",
    "version": 3
   },
   "file_extension": ".py",
   "mimetype": "text/x-python",
   "name": "python",
   "nbconvert_exporter": "python",
   "pygments_lexer": "ipython3",
   "version": "3.7.3"
  }
 },
 "nbformat": 4,
 "nbformat_minor": 2
}
